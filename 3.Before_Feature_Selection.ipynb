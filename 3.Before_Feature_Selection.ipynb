{
 "cells": [
  {
   "cell_type": "code",
   "execution_count": 20,
   "metadata": {},
   "outputs": [],
   "source": [
    "import pandas as pd\n",
    "import numpy as np\n",
    "from sklearn.metrics import precision_score, recall_score, f1_score, roc_auc_score, accuracy_score, classification_report,confusion_matrix\n",
    "from sklearn.model_selection import train_test_split\n",
    "\n",
    "from sklearn.linear_model import LogisticRegression\n",
    "from sklearn.neighbors import KNeighborsClassifier\n",
    "from sklearn.ensemble import RandomForestClassifier\n",
    "from sklearn.svm import SVC\n",
    "from sklearn.naive_bayes import GaussianNB\n",
    "from sklearn.preprocessing import StandardScaler"
   ]
  },
  {
   "cell_type": "code",
   "execution_count": 21,
   "metadata": {},
   "outputs": [],
   "source": [
    "# Loading datasets\n",
    "\n",
    "#path = 'D:\\Courses\\Data-Science_Tech\\INeuron_Courses\\MACHING_LEARNING_LIVE-CLASS\\Research Papers\\HealthCare_Domain\\Chronic_Kidney_Disease_Prediction\\WORKING\\CDK_Prediction\\data\\'\n",
    "\n",
    "df_knn_imputed_uniform_3 = pd.read_csv(r'D:\\Courses\\Data-Science_Tech\\INeuron_Courses\\MACHING_LEARNING_LIVE-CLASS\\Research Papers\\HealthCare_Domain\\Chronic_Kidney_Disease_Prediction\\WORKING\\CDK_Prediction\\data\\df_knn_imputed_uniform_3.csv')\n",
    "df_knn_imputed_uniform_5 = pd.read_csv(r'D:\\Courses\\Data-Science_Tech\\INeuron_Courses\\MACHING_LEARNING_LIVE-CLASS\\Research Papers\\HealthCare_Domain\\Chronic_Kidney_Disease_Prediction\\WORKING\\CDK_Prediction\\data\\df_knn_imputed_uniform_5.csv')\n",
    "df_knn_imputed_uniform_7 = pd.read_csv(r'D:\\Courses\\Data-Science_Tech\\INeuron_Courses\\MACHING_LEARNING_LIVE-CLASS\\Research Papers\\HealthCare_Domain\\Chronic_Kidney_Disease_Prediction\\WORKING\\CDK_Prediction\\data\\df_knn_imputed_uniform_7.csv')\n",
    "df_knn_imputed_uniform_9 = pd.read_csv(r'D:\\Courses\\Data-Science_Tech\\INeuron_Courses\\MACHING_LEARNING_LIVE-CLASS\\Research Papers\\HealthCare_Domain\\Chronic_Kidney_Disease_Prediction\\WORKING\\CDK_Prediction\\data\\df_knn_imputed_uniform_9.csv')\n",
    "df_knn_imputed_uniform_11 = pd.read_csv(r'D:\\Courses\\Data-Science_Tech\\INeuron_Courses\\MACHING_LEARNING_LIVE-CLASS\\Research Papers\\HealthCare_Domain\\Chronic_Kidney_Disease_Prediction\\WORKING\\CDK_Prediction\\data\\df_knn_imputed_uniform_11.csv')\n",
    "df_mean_imputed = pd.read_csv(r'D:\\Courses\\Data-Science_Tech\\INeuron_Courses\\MACHING_LEARNING_LIVE-CLASS\\Research Papers\\HealthCare_Domain\\Chronic_Kidney_Disease_Prediction\\WORKING\\CDK_Prediction\\data\\df_mean_imputed.csv')"
   ]
  },
  {
   "cell_type": "code",
   "execution_count": 22,
   "metadata": {},
   "outputs": [
    {
     "data": {
      "text/plain": [
       "rbc      float64\n",
       "pc       float64\n",
       "pcc      float64\n",
       "ba       float64\n",
       "htn      float64\n",
       "dm       float64\n",
       "cad      float64\n",
       "appet    float64\n",
       "pe       float64\n",
       "ane      float64\n",
       "class      int64\n",
       "age      float64\n",
       "bp       float64\n",
       "sg       float64\n",
       "al       float64\n",
       "su       float64\n",
       "bgr      float64\n",
       "bu       float64\n",
       "sc       float64\n",
       "sod      float64\n",
       "pot      float64\n",
       "hemo     float64\n",
       "pcv      float64\n",
       "wbcc     float64\n",
       "rbcc     float64\n",
       "dtype: object"
      ]
     },
     "execution_count": 22,
     "metadata": {},
     "output_type": "execute_result"
    }
   ],
   "source": [
    "df_mean_imputed.dtypes"
   ]
  },
  {
   "cell_type": "markdown",
   "metadata": {},
   "source": [
    "### Models(LOG, KNN, RF, SVM, NB) Applying on the KNN-Imputed & Mean-Imputed Dataset"
   ]
  },
  {
   "cell_type": "code",
   "execution_count": 23,
   "metadata": {},
   "outputs": [],
   "source": [
    "# Defining Dataframes and Dataframes names \n",
    "\n",
    "dfs = [df_knn_imputed_uniform_3,df_knn_imputed_uniform_5,\n",
    "        df_knn_imputed_uniform_7,df_knn_imputed_uniform_9,\n",
    "        df_knn_imputed_uniform_11,df_mean_imputed]\n",
    "    \n",
    "dfs_name = [\"knn_imputed_3\", \"knn_imputed_5\",\n",
    "                \"knn_imputed_7\",\"knn_imputed_9\",\n",
    "                \"knn_imputed_11\",\"mean_imputed\"]"
   ]
  },
  {
   "cell_type": "code",
   "execution_count": 30,
   "metadata": {},
   "outputs": [],
   "source": [
    "# Multiple models selection loop and respective train-test split, training,testing,metrics recording\n",
    "\n",
    "def select_model(x):\n",
    "    \n",
    "    if(x==0):\n",
    "        classifier = LogisticRegression()\n",
    "    elif(x==1):\n",
    "        classifier = KNeighborsClassifier()\n",
    "    elif(x==2):\n",
    "        classifier = RandomForestClassifier(n_estimators = 100)\n",
    "    elif(x==3):\n",
    "        classifier = SVC(kernel='rbf',random_state=None)\n",
    "    else:\n",
    "        classifier = GaussianNB()\n",
    "            \n",
    "    res = {}\n",
    "\n",
    "    for i,df in enumerate(dfs):\n",
    "        x = df.drop('class',axis=1)\n",
    "        y = df['class']\n",
    "\n",
    "        # Splitting data and shuffle as true as our data classification is ordered\n",
    "\n",
    "        x_train,x_test,y_train,y_test = train_test_split(x,y,test_size=0.33,shuffle = True ) \n",
    "\n",
    "        # Applying Standard scaler\n",
    "\n",
    "        scaler = StandardScaler()\n",
    "\n",
    "\n",
    "        x_train_scaled = scaler.fit_transform(x_train)\n",
    "        x_test_scaled = scaler.fit_transform(x_test)\n",
    "\n",
    "        #Fitting model\n",
    "        classifier.fit(x_train_scaled,y_train)\n",
    "\n",
    "        #Train and Test Prediction\n",
    "\n",
    "        train_pred = classifier.predict(x_train_scaled)\n",
    "        test_pred = classifier.predict(x_test_scaled)\n",
    "\n",
    "        #Train and test Accuracy\n",
    "\n",
    "        train_acc = accuracy_score(y_train,train_pred)\n",
    "        test_acc = accuracy_score(y_test,test_pred)\n",
    "\n",
    "        #Confusion matrix metrics\n",
    "\n",
    "        tn, fp, fn, tp = confusion_matrix(y_test, test_pred).ravel()\n",
    "\n",
    "    \n",
    "\n",
    "        #Logging all above metrixs into one table res\n",
    "\n",
    "        res[dfs_name[i]] = [train_acc, test_acc, tn, fp, fn, tp]\n",
    "    return res\n",
    "\n",
    "\n",
    "\n",
    "\n",
    "\n",
    "    \n",
    "\n"
   ]
  },
  {
   "cell_type": "code",
   "execution_count": 32,
   "metadata": {},
   "outputs": [
    {
     "name": "stdout",
     "output_type": "stream",
     "text": [
      "\u001b[1m 1 .PERFORMANCE INDICATORS for Logistic Regression \n",
      "\n",
      "                train_acc  test_acc  true_neg  false_pos  false_neg  true_pos\n",
      "knn_imputed_3    0.992537  0.992424        48          0          1        83\n",
      "knn_imputed_5    1.000000  0.984848        50          2          0        80\n",
      "knn_imputed_7    0.996269  0.977273        45          1          2        84\n",
      "knn_imputed_9    1.000000  0.977273        52          2          1        77\n",
      "knn_imputed_11   0.996269  0.984848        54          2          0        76\n",
      "mean_imputed     1.000000  1.000000        51          0          0        81 \n",
      "\n",
      "2 \u001b[1m.PERFORMANCE INDICATORS for KNN \n",
      "\n",
      "                train_acc  test_acc  true_neg  false_pos  false_neg  true_pos\n",
      "knn_imputed_3    0.988806  0.924242        44          0         10        78\n",
      "knn_imputed_5    0.970149  0.969697        47          0          4        81\n",
      "knn_imputed_7    0.981343  0.962121        42          0          5        85\n",
      "knn_imputed_9    0.981343  0.946970        55          1          6        70\n",
      "knn_imputed_11   0.973881  0.992424        64          0          1        67\n",
      "mean_imputed     0.981343  0.977273        51          0          3        78 \n",
      "\n",
      "3 \u001b[1m.PERFORMANCE INDICATORS for Random Forest \n",
      "\n",
      "                train_acc  test_acc  true_neg  false_pos  false_neg  true_pos\n",
      "knn_imputed_3         1.0  0.992424        45          1          0        86\n",
      "knn_imputed_5         1.0  0.992424        48          0          1        83\n",
      "knn_imputed_7         1.0  0.984848        50          2          0        80\n",
      "knn_imputed_9         1.0  0.992424        50          1          0        81\n",
      "knn_imputed_11        1.0  0.984848        52          2          0        78\n",
      "mean_imputed          1.0  0.992424        55          1          0        76 \n",
      "\n",
      "4 \u001b[1m.PERFORMANCE INDICATORS for SVM \n",
      "\n",
      "                train_acc  test_acc  true_neg  false_pos  false_neg  true_pos\n",
      "knn_imputed_3    0.996269  0.977273        50          2          1        79\n",
      "knn_imputed_5    0.992537  1.000000        52          0          0        80\n",
      "knn_imputed_7    0.992537  1.000000        54          0          0        78\n",
      "knn_imputed_9    1.000000  0.962121        42          1          4        85\n",
      "knn_imputed_11   0.988806  0.992424        47          1          0        84\n",
      "mean_imputed     1.000000  1.000000        53          0          0        79 \n",
      "\n",
      "5 \u001b[1m.PERFORMANCE INDICATORS for Naive Bayes \n",
      "\n",
      "                train_acc  test_acc  true_neg  false_pos  false_neg  true_pos\n",
      "knn_imputed_3    0.936567  0.613636         0         51          0        81\n",
      "knn_imputed_5    0.947761  0.666667         0         44          0        88\n",
      "knn_imputed_7    0.929104  0.643939         0         47          0        85\n",
      "knn_imputed_9    0.936567  0.636364         0         48          0        84\n",
      "knn_imputed_11   0.947761  0.575758         0         56          0        76\n",
      "mean_imputed     0.966418  0.621212         0         50          0        82 \n",
      "\n",
      "6 \u001b[1m.PERFORMANCE INDICATORS for Naive Bayes \n",
      "\n",
      "                train_acc  test_acc  true_neg  false_pos  false_neg  true_pos\n",
      "knn_imputed_3    0.929104  0.628788         0         49          0        83\n",
      "knn_imputed_5    0.936567  0.583333         0         55          0        77\n",
      "knn_imputed_7    0.951493  0.598485         0         53          0        79\n",
      "knn_imputed_9    0.932836  0.651515         0         46          0        86\n",
      "knn_imputed_11   0.947761  0.606061         0         52          0        80\n",
      "mean_imputed     0.947761  0.598485         0         53          0        79 \n",
      "\n"
     ]
    }
   ],
   "source": [
    "for i in range(6):\n",
    "    result = select_model(i)\n",
    "    res = pd.DataFrame.from_dict(data = result,orient='index', columns = ['train_acc', 'test_acc', 'true_neg', 'false_pos', 'false_neg', 'true_pos'])\n",
    "    if(i==0):\n",
    "        print(\"\\033[1m\",i+1,\".PERFORMANCE INDICATORS for Logistic Regression \\n\")\n",
    "    elif(i==1):\n",
    "        print(i+1,\"\\033[1m\"+\".PERFORMANCE INDICATORS for KNN \\n\")\n",
    "    elif(i==2):\n",
    "        print(i+1,\"\\033[1m\"+\".PERFORMANCE INDICATORS for Random Forest \\n\")\n",
    "    elif(i==3):\n",
    "        print(i+1,\"\\033[1m\"+\".PERFORMANCE INDICATORS for SVM \\n\")\n",
    "    else:\n",
    "        print(i+1,\"\\033[1m\"+\".PERFORMANCE INDICATORS for Naive Bayes \\n\")\n",
    "\n",
    "    print(res,'\\n')"
   ]
  },
  {
   "cell_type": "markdown",
   "metadata": {},
   "source": [
    "### Metrics are various models are logged above without using Feature selection. It can observed that model performace can be improved. This can be done by using Feature selection to select particular important features and then build model on those features."
   ]
  },
  {
   "cell_type": "markdown",
   "metadata": {},
   "source": []
  }
 ],
 "metadata": {
  "interpreter": {
   "hash": "0890d3c2f34a494017563a0b89b26a81601f4deb6994e82714ed233340a59c57"
  },
  "kernelspec": {
   "display_name": "Python 3.8.0 ('mlenv')",
   "language": "python",
   "name": "python3"
  },
  "language_info": {
   "codemirror_mode": {
    "name": "ipython",
    "version": 3
   },
   "file_extension": ".py",
   "mimetype": "text/x-python",
   "name": "python",
   "nbconvert_exporter": "python",
   "pygments_lexer": "ipython3",
   "version": "3.8.0"
  },
  "orig_nbformat": 4
 },
 "nbformat": 4,
 "nbformat_minor": 2
}
